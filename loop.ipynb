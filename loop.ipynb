{
  "nbformat": 4,
  "nbformat_minor": 0,
  "metadata": {
    "colab": {
      "name": "loop.ipynb",
      "provenance": [],
      "collapsed_sections": [],
      "authorship_tag": "ABX9TyNE8nTbOxAcnskxqxlLwTwv",
      "include_colab_link": true
    },
    "kernelspec": {
      "name": "python3",
      "display_name": "Python 3"
    }
  },
  "cells": [
    {
      "cell_type": "markdown",
      "metadata": {
        "id": "view-in-github",
        "colab_type": "text"
      },
      "source": [
        "<a href=\"https://colab.research.google.com/github/amarshivangol/Complete-Python-3-Bootcamp/blob/master/loop.ipynb\" target=\"_parent\"><img src=\"https://colab.research.google.com/assets/colab-badge.svg\" alt=\"Open In Colab\"/></a>"
      ]
    },
    {
      "cell_type": "code",
      "metadata": {
        "id": "bxC5Uj8fw-gj",
        "colab_type": "code",
        "colab": {}
      },
      "source": [
        "x = 0\n",
        "while (x>10):\n",
        "  print('x is currently:',x)\n",
        "  print(' x is still less than 10, adding 1 to x')\n",
        "  x=x+1"
      ],
      "execution_count": 0,
      "outputs": []
    }
  ]
}