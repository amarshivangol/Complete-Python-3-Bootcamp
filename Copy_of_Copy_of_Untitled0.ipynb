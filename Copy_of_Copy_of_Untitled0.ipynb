{
  "nbformat": 4,
  "nbformat_minor": 0,
  "metadata": {
    "colab": {
      "name": "Copy of Copy of Untitled0.ipynb",
      "provenance": [],
      "collapsed_sections": [],
      "authorship_tag": "ABX9TyNjWPuN4mg7RM61EykIStjN",
      "include_colab_link": true
    },
    "kernelspec": {
      "name": "python3",
      "display_name": "Python 3"
    }
  },
  "cells": [
    {
      "cell_type": "markdown",
      "metadata": {
        "id": "view-in-github",
        "colab_type": "text"
      },
      "source": [
        "<a href=\"https://colab.research.google.com/github/amarshivangol/Complete-Python-3-Bootcamp/blob/master/Copy_of_Copy_of_Untitled0.ipynb\" target=\"_parent\"><img src=\"https://colab.research.google.com/assets/colab-badge.svg\" alt=\"Open In Colab\"/></a>"
      ]
    },
    {
      "cell_type": "code",
      "metadata": {
        "id": "RC9wyDotZ968",
        "colab_type": "code",
        "colab": {}
      },
      "source": [
        "a=2.5"
      ],
      "execution_count": 0,
      "outputs": []
    },
    {
      "cell_type": "code",
      "metadata": {
        "id": "HwIM6kHrbPVZ",
        "colab_type": "code",
        "outputId": "8b9c3643-f62e-425f-cae3-5f1eb663a119",
        "colab": {
          "base_uri": "https://localhost:8080/",
          "height": 34
        }
      },
      "source": [
        "type(a)"
      ],
      "execution_count": 0,
      "outputs": [
        {
          "output_type": "execute_result",
          "data": {
            "text/plain": [
              "float"
            ]
          },
          "metadata": {
            "tags": []
          },
          "execution_count": 4
        }
      ]
    },
    {
      "cell_type": "code",
      "metadata": {
        "id": "yehRO92Zbata",
        "colab_type": "code",
        "colab": {}
      },
      "source": [
        "a=2.5 #implicit cell assigning variable and changing the data type."
      ],
      "execution_count": 0,
      "outputs": []
    },
    {
      "cell_type": "code",
      "metadata": {
        "id": "O0DBo5Peb4ot",
        "colab_type": "code",
        "colab": {}
      },
      "source": [
        "FULL_NAME=['AMAR','ARJUN','SHIVANGOL']"
      ],
      "execution_count": 0,
      "outputs": []
    },
    {
      "cell_type": "code",
      "metadata": {
        "id": "MlXW8E1vdaCH",
        "colab_type": "code",
        "outputId": "5f7755b4-2812-4121-e8d2-c32f8b12c6bc",
        "colab": {
          "base_uri": "https://localhost:8080/",
          "height": 34
        }
      },
      "source": [
        "type(FULL_NAME)"
      ],
      "execution_count": 0,
      "outputs": [
        {
          "output_type": "execute_result",
          "data": {
            "text/plain": [
              "list"
            ]
          },
          "metadata": {
            "tags": []
          },
          "execution_count": 8
        }
      ]
    },
    {
      "cell_type": "code",
      "metadata": {
        "id": "Pxx6xdR2dlOD",
        "colab_type": "code",
        "outputId": "4c6c1614-c090-42a1-9a67-2c70fd960013",
        "colab": {
          "base_uri": "https://localhost:8080/",
          "height": 34
        }
      },
      "source": [
        "len(FULL_NAME)"
      ],
      "execution_count": 0,
      "outputs": [
        {
          "output_type": "execute_result",
          "data": {
            "text/plain": [
              "3"
            ]
          },
          "metadata": {
            "tags": []
          },
          "execution_count": 10
        }
      ]
    },
    {
      "cell_type": "code",
      "metadata": {
        "id": "FIOq74bodq05",
        "colab_type": "code",
        "outputId": "29431c3f-08a5-4c5b-c464-729654feb046",
        "colab": {
          "base_uri": "https://localhost:8080/",
          "height": 34
        }
      },
      "source": [
        "FULL_NAME[0]"
      ],
      "execution_count": 0,
      "outputs": [
        {
          "output_type": "execute_result",
          "data": {
            "text/plain": [
              "'AMAR'"
            ]
          },
          "metadata": {
            "tags": []
          },
          "execution_count": 12
        }
      ]
    },
    {
      "cell_type": "code",
      "metadata": {
        "id": "mvp7HUZwdyj_",
        "colab_type": "code",
        "outputId": "114f2779-9d5d-4570-b9e5-344aced6429e",
        "colab": {
          "base_uri": "https://localhost:8080/",
          "height": 34
        }
      },
      "source": [
        "\"AMAR\""
      ],
      "execution_count": 0,
      "outputs": [
        {
          "output_type": "execute_result",
          "data": {
            "text/plain": [
              "'AMAR'"
            ]
          },
          "metadata": {
            "tags": []
          },
          "execution_count": 13
        }
      ]
    },
    {
      "cell_type": "code",
      "metadata": {
        "id": "xbKdNW_xd2jw",
        "colab_type": "code",
        "colab": {}
      },
      "source": [
        "string='AMAR SHIVANGOL!'"
      ],
      "execution_count": 0,
      "outputs": []
    },
    {
      "cell_type": "code",
      "metadata": {
        "id": "N_tjJkk_eAOJ",
        "colab_type": "code",
        "outputId": "807a662f-4ce6-4f2f-d604-5f30e5784c23",
        "colab": {
          "base_uri": "https://localhost:8080/",
          "height": 34
        }
      },
      "source": [
        "len(string)"
      ],
      "execution_count": 0,
      "outputs": [
        {
          "output_type": "execute_result",
          "data": {
            "text/plain": [
              "15"
            ]
          },
          "metadata": {
            "tags": []
          },
          "execution_count": 15
        }
      ]
    },
    {
      "cell_type": "code",
      "metadata": {
        "id": "ftx-lQB3eFj4",
        "colab_type": "code",
        "outputId": "4dd6c0e9-8b2f-42e2-f88c-46abf4fd3474",
        "colab": {
          "base_uri": "https://localhost:8080/",
          "height": 34
        }
      },
      "source": [
        "string[0]"
      ],
      "execution_count": 0,
      "outputs": [
        {
          "output_type": "execute_result",
          "data": {
            "text/plain": [
              "'A'"
            ]
          },
          "metadata": {
            "tags": []
          },
          "execution_count": 16
        }
      ]
    },
    {
      "cell_type": "code",
      "metadata": {
        "id": "EDKCgDYXeLst",
        "colab_type": "code",
        "outputId": "6eab4b4e-e26e-42e8-c303-1d5a056bd00e",
        "colab": {
          "base_uri": "https://localhost:8080/",
          "height": 34
        }
      },
      "source": [
        "string[1:5]"
      ],
      "execution_count": 0,
      "outputs": [
        {
          "output_type": "execute_result",
          "data": {
            "text/plain": [
              "'MAR '"
            ]
          },
          "metadata": {
            "tags": []
          },
          "execution_count": 17
        }
      ]
    },
    {
      "cell_type": "code",
      "metadata": {
        "id": "VF3DBVFFepuX",
        "colab_type": "code",
        "outputId": "7ac3ae90-76e3-4bd7-fa94-efe30982490c",
        "colab": {
          "base_uri": "https://localhost:8080/",
          "height": 34
        }
      },
      "source": [
        "string[len(string)-1]"
      ],
      "execution_count": 0,
      "outputs": [
        {
          "output_type": "execute_result",
          "data": {
            "text/plain": [
              "'!'"
            ]
          },
          "metadata": {
            "tags": []
          },
          "execution_count": 18
        }
      ]
    },
    {
      "cell_type": "code",
      "metadata": {
        "id": "whruF4HJey40",
        "colab_type": "code",
        "outputId": "6217105b-db30-450f-f14f-9d5b0c6a2b59",
        "colab": {
          "base_uri": "https://localhost:8080/",
          "height": 34
        }
      },
      "source": [
        "string[:-1]"
      ],
      "execution_count": 0,
      "outputs": [
        {
          "output_type": "execute_result",
          "data": {
            "text/plain": [
              "'AMAR SHIVANGOL'"
            ]
          },
          "metadata": {
            "tags": []
          },
          "execution_count": 19
        }
      ]
    },
    {
      "cell_type": "code",
      "metadata": {
        "id": "UBXnyLrJe6Nn",
        "colab_type": "code",
        "outputId": "48d0a319-071f-4b2f-f9e0-d6d6eac7f864",
        "colab": {
          "base_uri": "https://localhost:8080/",
          "height": 34
        }
      },
      "source": [
        "string[::-1]"
      ],
      "execution_count": 0,
      "outputs": [
        {
          "output_type": "execute_result",
          "data": {
            "text/plain": [
              "'!LOGNAVIHS RAMA'"
            ]
          },
          "metadata": {
            "tags": []
          },
          "execution_count": 20
        }
      ]
    },
    {
      "cell_type": "code",
      "metadata": {
        "id": "PlGvXmpCfH1i",
        "colab_type": "code",
        "outputId": "015c9603-efa6-4a72-fc6c-ef8661312bf3",
        "colab": {
          "base_uri": "https://localhost:8080/",
          "height": 34
        }
      },
      "source": [
        "string[2:5]"
      ],
      "execution_count": 0,
      "outputs": [
        {
          "output_type": "execute_result",
          "data": {
            "text/plain": [
              "'AR '"
            ]
          },
          "metadata": {
            "tags": []
          },
          "execution_count": 21
        }
      ]
    },
    {
      "cell_type": "code",
      "metadata": {
        "id": "8knEa7k7gRV9",
        "colab_type": "code",
        "outputId": "7c207538-356a-403c-b83e-9080c3641ef2",
        "colab": {
          "base_uri": "https://localhost:8080/",
          "height": 34
        }
      },
      "source": [
        "string[:5:-1]"
      ],
      "execution_count": 0,
      "outputs": [
        {
          "output_type": "execute_result",
          "data": {
            "text/plain": [
              "'!LOGNAVIH'"
            ]
          },
          "metadata": {
            "tags": []
          },
          "execution_count": 22
        }
      ]
    },
    {
      "cell_type": "code",
      "metadata": {
        "id": "7dnY_8e2gbdV",
        "colab_type": "code",
        "outputId": "d0f7d68e-7790-43f8-e400-4461d0f77dce",
        "colab": {
          "base_uri": "https://localhost:8080/",
          "height": 34
        }
      },
      "source": [
        "string[1:5:2]"
      ],
      "execution_count": 0,
      "outputs": [
        {
          "output_type": "execute_result",
          "data": {
            "text/plain": [
              "'MR'"
            ]
          },
          "metadata": {
            "tags": []
          },
          "execution_count": 24
        }
      ]
    },
    {
      "cell_type": "code",
      "metadata": {
        "id": "c-e-Z2ErhmXC",
        "colab_type": "code",
        "outputId": "724cad2e-8151-4c47-b002-662b8b508dff",
        "colab": {
          "base_uri": "https://localhost:8080/",
          "height": 34
        }
      },
      "source": [
        "string "
      ],
      "execution_count": 0,
      "outputs": [
        {
          "output_type": "execute_result",
          "data": {
            "text/plain": [
              "'AMAR SHIVANGOL!'"
            ]
          },
          "metadata": {
            "tags": []
          },
          "execution_count": 25
        }
      ]
    },
    {
      "cell_type": "code",
      "metadata": {
        "id": "_1lvscZOghcw",
        "colab_type": "code",
        "outputId": "034423cc-bda5-4305-f19a-85a9b99fcdb1",
        "colab": {
          "base_uri": "https://localhost:8080/",
          "height": 34
        }
      },
      "source": [
        "string+ 'I am practicing DATA SCIENCE.'"
      ],
      "execution_count": 0,
      "outputs": [
        {
          "output_type": "execute_result",
          "data": {
            "text/plain": [
              "'AMAR SHIVANGOL!I am practicing DATA SCIENCE.'"
            ]
          },
          "metadata": {
            "tags": []
          },
          "execution_count": 26
        }
      ]
    },
    {
      "cell_type": "code",
      "metadata": {
        "id": "3t5ser-aiB6-",
        "colab_type": "code",
        "colab": {}
      },
      "source": [
        "let= 'A'"
      ],
      "execution_count": 0,
      "outputs": []
    },
    {
      "cell_type": "code",
      "metadata": {
        "id": "V2xgMNPSiHG0",
        "colab_type": "code",
        "outputId": "df136a3c-9ca8-40e2-8c79-28f02707e7b4",
        "colab": {
          "base_uri": "https://localhost:8080/",
          "height": 34
        }
      },
      "source": [
        "let * 10"
      ],
      "execution_count": 0,
      "outputs": [
        {
          "output_type": "execute_result",
          "data": {
            "text/plain": [
              "'AAAAAAAAAA'"
            ]
          },
          "metadata": {
            "tags": []
          },
          "execution_count": 30
        }
      ]
    },
    {
      "cell_type": "code",
      "metadata": {
        "id": "WonzsW78iSM6",
        "colab_type": "code",
        "outputId": "998bb076-5147-4df6-91d2-55de48d9bf93",
        "colab": {
          "base_uri": "https://localhost:8080/",
          "height": 34
        }
      },
      "source": [
        "string=\"\"\"fvrf\n",
        "fvrfv\n",
        "fvrf\n",
        "\"\"\"\n",
        "string"
      ],
      "execution_count": 0,
      "outputs": [
        {
          "output_type": "execute_result",
          "data": {
            "text/plain": [
              "'fvrf\\nfvrfv\\nfvrf\\n'"
            ]
          },
          "metadata": {
            "tags": []
          },
          "execution_count": 34
        }
      ]
    },
    {
      "cell_type": "code",
      "metadata": {
        "id": "Q1agrtWzir65",
        "colab_type": "code",
        "outputId": "0c30ecc4-eeb8-4e3f-8ecb-5cc7d50adca4",
        "colab": {
          "base_uri": "https://localhost:8080/",
          "height": 34
        }
      },
      "source": [
        "string='''fvrf\n",
        "fvrfv\n",
        "fvrf\n",
        "'''\n",
        "string"
      ],
      "execution_count": 0,
      "outputs": [
        {
          "output_type": "execute_result",
          "data": {
            "text/plain": [
              "'fvrf\\nfvrfv\\nfvrf\\n'"
            ]
          },
          "metadata": {
            "tags": []
          },
          "execution_count": 35
        }
      ]
    },
    {
      "cell_type": "code",
      "metadata": {
        "id": "-VqQkaK1i0Au",
        "colab_type": "code",
        "colab": {}
      },
      "source": [
        "string='AMAR SHIVANGOL'"
      ],
      "execution_count": 0,
      "outputs": []
    },
    {
      "cell_type": "code",
      "metadata": {
        "id": "BV0SAiP-i7Yd",
        "colab_type": "code",
        "outputId": "eb9122c5-13c2-4007-da27-d82fae868513",
        "colab": {
          "base_uri": "https://localhost:8080/",
          "height": 34
        }
      },
      "source": [
        "string.upper()"
      ],
      "execution_count": 0,
      "outputs": [
        {
          "output_type": "execute_result",
          "data": {
            "text/plain": [
              "'AMAR SHIVANGOL'"
            ]
          },
          "metadata": {
            "tags": []
          },
          "execution_count": 38
        }
      ]
    },
    {
      "cell_type": "code",
      "metadata": {
        "id": "sQpKrkFIjAnR",
        "colab_type": "code",
        "outputId": "673bc16f-c2e0-449a-9119-20e66a8c757d",
        "colab": {
          "base_uri": "https://localhost:8080/",
          "height": 34
        }
      },
      "source": [
        "string.lower()"
      ],
      "execution_count": 0,
      "outputs": [
        {
          "output_type": "execute_result",
          "data": {
            "text/plain": [
              "'amar shivangol'"
            ]
          },
          "metadata": {
            "tags": []
          },
          "execution_count": 39
        }
      ]
    },
    {
      "cell_type": "code",
      "metadata": {
        "id": "i_RTHf2yjECw",
        "colab_type": "code",
        "colab": {}
      },
      "source": [
        "s=string.split()"
      ],
      "execution_count": 0,
      "outputs": []
    },
    {
      "cell_type": "code",
      "metadata": {
        "id": "NGE-wxIQjU5B",
        "colab_type": "code",
        "outputId": "7073cf76-3276-4df8-8ecd-c6291f07d645",
        "colab": {
          "base_uri": "https://localhost:8080/",
          "height": 34
        }
      },
      "source": [
        "s"
      ],
      "execution_count": 0,
      "outputs": [
        {
          "output_type": "execute_result",
          "data": {
            "text/plain": [
              "['AMAR', 'SHIVANGOL']"
            ]
          },
          "metadata": {
            "tags": []
          },
          "execution_count": 43
        }
      ]
    },
    {
      "cell_type": "code",
      "metadata": {
        "id": "K_KmJ4PbjfGI",
        "colab_type": "code",
        "outputId": "9a6dc4da-20b4-4f65-aedf-b6c82b536352",
        "colab": {
          "base_uri": "https://localhost:8080/",
          "height": 34
        }
      },
      "source": [
        "'-'.join(s)"
      ],
      "execution_count": 0,
      "outputs": [
        {
          "output_type": "execute_result",
          "data": {
            "text/plain": [
              "'AMAR-SHIVANGOL'"
            ]
          },
          "metadata": {
            "tags": []
          },
          "execution_count": 45
        }
      ]
    },
    {
      "cell_type": "code",
      "metadata": {
        "id": "ErIYS-m6k524",
        "colab_type": "code",
        "outputId": "a5c14668-11d2-42e3-c78c-5055d2a1e780",
        "colab": {
          "base_uri": "https://localhost:8080/",
          "height": 34
        }
      },
      "source": [
        "'//'.join(s)"
      ],
      "execution_count": 0,
      "outputs": [
        {
          "output_type": "execute_result",
          "data": {
            "text/plain": [
              "'AMAR//SHIVANGOL'"
            ]
          },
          "metadata": {
            "tags": []
          },
          "execution_count": 46
        }
      ]
    },
    {
      "cell_type": "code",
      "metadata": {
        "id": "t34FxvbilKQZ",
        "colab_type": "code",
        "colab": {}
      },
      "source": [
        "my_list='AMAR SHIVANGOL'"
      ],
      "execution_count": 0,
      "outputs": []
    },
    {
      "cell_type": "code",
      "metadata": {
        "id": "AGjXS9PtlQoe",
        "colab_type": "code",
        "outputId": "9b44ff87-193e-4a3a-8eb0-d512f9909293",
        "colab": {
          "base_uri": "https://localhost:8080/",
          "height": 34
        }
      },
      "source": [
        "my_list[1:6:2]"
      ],
      "execution_count": 0,
      "outputs": [
        {
          "output_type": "execute_result",
          "data": {
            "text/plain": [
              "'MRS'"
            ]
          },
          "metadata": {
            "tags": []
          },
          "execution_count": 52
        }
      ]
    },
    {
      "cell_type": "code",
      "metadata": {
        "id": "i2YS69tIlo2e",
        "colab_type": "code",
        "outputId": "c9369c87-6dca-4788-968e-b9648ca5dce4",
        "colab": {
          "base_uri": "https://localhost:8080/",
          "height": 252
        }
      },
      "source": [
        "for i in my_list:\n",
        "  print(i[::-1])"
      ],
      "execution_count": 0,
      "outputs": [
        {
          "output_type": "stream",
          "text": [
            "A\n",
            "M\n",
            "A\n",
            "R\n",
            " \n",
            "S\n",
            "H\n",
            "I\n",
            "V\n",
            "A\n",
            "N\n",
            "G\n",
            "O\n",
            "L\n"
          ],
          "name": "stdout"
        }
      ]
    },
    {
      "cell_type": "code",
      "metadata": {
        "id": "6hxObBBimWRi",
        "colab_type": "code",
        "colab": {}
      },
      "source": [
        ""
      ],
      "execution_count": 0,
      "outputs": []
    },
    {
      "cell_type": "code",
      "metadata": {
        "id": "Wy_6On1NmCtj",
        "colab_type": "code",
        "outputId": "5cd10811-3f4d-4174-9bc7-f17f360fee1f",
        "colab": {
          "base_uri": "https://localhost:8080/",
          "height": 134
        }
      },
      "source": [
        "for i in range(0,len(my_list),2):\n",
        "  print(my_list[i])"
      ],
      "execution_count": 0,
      "outputs": [
        {
          "output_type": "stream",
          "text": [
            "A\n",
            "A\n",
            " \n",
            "H\n",
            "V\n",
            "N\n",
            "O\n"
          ],
          "name": "stdout"
        }
      ]
    },
    {
      "cell_type": "code",
      "metadata": {
        "id": "JJC8BvIjm_jp",
        "colab_type": "code",
        "colab": {}
      },
      "source": [
        "my_list= ['AMAR SHIVANGOL','23071995']"
      ],
      "execution_count": 0,
      "outputs": []
    },
    {
      "cell_type": "code",
      "metadata": {
        "id": "XmCEZfTpmXJJ",
        "colab_type": "code",
        "colab": {}
      },
      "source": [
        "my_list=my_list+['l']"
      ],
      "execution_count": 0,
      "outputs": []
    },
    {
      "cell_type": "code",
      "metadata": {
        "id": "1XQ4hCRZmv4V",
        "colab_type": "code",
        "colab": {}
      },
      "source": [
        "my_list.append('Yes! I am in')"
      ],
      "execution_count": 0,
      "outputs": []
    },
    {
      "cell_type": "code",
      "metadata": {
        "id": "PtqXVjarnWyU",
        "colab_type": "code",
        "outputId": "e88750cb-7245-47b9-8918-c365a399ee5b",
        "colab": {
          "base_uri": "https://localhost:8080/",
          "height": 34
        }
      },
      "source": [
        "my_list"
      ],
      "execution_count": 0,
      "outputs": [
        {
          "output_type": "execute_result",
          "data": {
            "text/plain": [
              "['AMAR SHIVANGOL', '23071995', 'l', 'Yes! I am in']"
            ]
          },
          "metadata": {
            "tags": []
          },
          "execution_count": 65
        }
      ]
    },
    {
      "cell_type": "code",
      "metadata": {
        "id": "YSjM065nnZJR",
        "colab_type": "code",
        "colab": {}
      },
      "source": [
        "my_list.append('one')"
      ],
      "execution_count": 0,
      "outputs": []
    },
    {
      "cell_type": "code",
      "metadata": {
        "id": "fq25dMWrng_g",
        "colab_type": "code",
        "outputId": "371ef202-32dc-4361-ce58-0c6e4eb19824",
        "colab": {
          "base_uri": "https://localhost:8080/",
          "height": 34
        }
      },
      "source": [
        "my_list"
      ],
      "execution_count": 0,
      "outputs": [
        {
          "output_type": "execute_result",
          "data": {
            "text/plain": [
              "['AMAR SHIVANGOL', '23071995', 'l', 'Yes! I am in', 'one']"
            ]
          },
          "metadata": {
            "tags": []
          },
          "execution_count": 68
        }
      ]
    },
    {
      "cell_type": "code",
      "metadata": {
        "id": "Fnfqm6JynkOX",
        "colab_type": "code",
        "outputId": "3536f349-c615-44b4-a65d-c4404306d2d8",
        "colab": {
          "base_uri": "https://localhost:8080/",
          "height": 34
        }
      },
      "source": [
        "my_list.pop()"
      ],
      "execution_count": 0,
      "outputs": [
        {
          "output_type": "execute_result",
          "data": {
            "text/plain": [
              "'one'"
            ]
          },
          "metadata": {
            "tags": []
          },
          "execution_count": 71
        }
      ]
    },
    {
      "cell_type": "code",
      "metadata": {
        "id": "W96wZKJTnuM-",
        "colab_type": "code",
        "colab": {}
      },
      "source": [
        "my_list.reverse()"
      ],
      "execution_count": 0,
      "outputs": []
    },
    {
      "cell_type": "code",
      "metadata": {
        "id": "ihTjrdYznyVT",
        "colab_type": "code",
        "outputId": "c39d2f5b-f02d-4393-ed25-3f0e9f3a5cbd",
        "colab": {
          "base_uri": "https://localhost:8080/",
          "height": 34
        }
      },
      "source": [
        "my_list"
      ],
      "execution_count": 0,
      "outputs": [
        {
          "output_type": "execute_result",
          "data": {
            "text/plain": [
              "['AMAR SHIVANGOL', '23071995', 'l', 'Yes! I am in']"
            ]
          },
          "metadata": {
            "tags": []
          },
          "execution_count": 72
        }
      ]
    },
    {
      "cell_type": "code",
      "metadata": {
        "id": "iBUlooPhn1WO",
        "colab_type": "code",
        "colab": {}
      },
      "source": [
        "l1=[1,2,3]\n",
        "l2=[4,5,6]\n",
        "l3=[7,8,9]"
      ],
      "execution_count": 0,
      "outputs": []
    },
    {
      "cell_type": "code",
      "metadata": {
        "id": "swKYvPOCoAnr",
        "colab_type": "code",
        "colab": {}
      },
      "source": [
        "matrix=[l1,l2,l3]"
      ],
      "execution_count": 0,
      "outputs": []
    },
    {
      "cell_type": "code",
      "metadata": {
        "id": "mDQxs39BoG5Q",
        "colab_type": "code",
        "outputId": "27084886-610d-469d-8137-4f3d068c9e72",
        "colab": {
          "base_uri": "https://localhost:8080/",
          "height": 34
        }
      },
      "source": [
        "matrix[0]"
      ],
      "execution_count": 0,
      "outputs": [
        {
          "output_type": "execute_result",
          "data": {
            "text/plain": [
              "[1, 2, 3]"
            ]
          },
          "metadata": {
            "tags": []
          },
          "execution_count": 76
        }
      ]
    },
    {
      "cell_type": "code",
      "metadata": {
        "id": "g0gZ_OcHoLih",
        "colab_type": "code",
        "outputId": "0123527d-8b82-43e0-b185-3b03565db57c",
        "colab": {
          "base_uri": "https://localhost:8080/",
          "height": 34
        }
      },
      "source": [
        "matrix[-1]"
      ],
      "execution_count": 0,
      "outputs": [
        {
          "output_type": "execute_result",
          "data": {
            "text/plain": [
              "[7, 8, 9]"
            ]
          },
          "metadata": {
            "tags": []
          },
          "execution_count": 77
        }
      ]
    },
    {
      "cell_type": "code",
      "metadata": {
        "id": "6GeVdeSUoPl-",
        "colab_type": "code",
        "outputId": "6a93cd52-4dee-40db-ac72-7b91ef570962",
        "colab": {
          "base_uri": "https://localhost:8080/",
          "height": 34
        }
      },
      "source": [
        "matrix[-1][0]"
      ],
      "execution_count": 0,
      "outputs": [
        {
          "output_type": "execute_result",
          "data": {
            "text/plain": [
              "7"
            ]
          },
          "metadata": {
            "tags": []
          },
          "execution_count": 78
        }
      ]
    },
    {
      "cell_type": "code",
      "metadata": {
        "id": "fFdoMVKgoUYH",
        "colab_type": "code",
        "outputId": "f8e50529-fa33-428e-e882-836e8921824c",
        "colab": {
          "base_uri": "https://localhost:8080/",
          "height": 34
        }
      },
      "source": [
        "matrix[1][0]"
      ],
      "execution_count": 0,
      "outputs": [
        {
          "output_type": "execute_result",
          "data": {
            "text/plain": [
              "4"
            ]
          },
          "metadata": {
            "tags": []
          },
          "execution_count": 79
        }
      ]
    },
    {
      "cell_type": "code",
      "metadata": {
        "id": "WGdopSBzooux",
        "colab_type": "code",
        "outputId": "c71d0feb-5856-47ef-e3c0-86a17b43e3a9",
        "colab": {
          "base_uri": "https://localhost:8080/",
          "height": 34
        }
      },
      "source": [
        "matrix[::-1]"
      ],
      "execution_count": 0,
      "outputs": [
        {
          "output_type": "execute_result",
          "data": {
            "text/plain": [
              "[[7, 8, 9], [4, 5, 6], [1, 2, 3]]"
            ]
          },
          "metadata": {
            "tags": []
          },
          "execution_count": 81
        }
      ]
    },
    {
      "cell_type": "code",
      "metadata": {
        "id": "Kbd6mQ-Io9bB",
        "colab_type": "code",
        "outputId": "2aa1e6aa-5eac-4e0e-e0d6-a6920523e908",
        "colab": {
          "base_uri": "https://localhost:8080/",
          "height": 34
        }
      },
      "source": [
        "matrix[0][0]"
      ],
      "execution_count": 0,
      "outputs": [
        {
          "output_type": "execute_result",
          "data": {
            "text/plain": [
              "1"
            ]
          },
          "metadata": {
            "tags": []
          },
          "execution_count": 82
        }
      ]
    },
    {
      "cell_type": "code",
      "metadata": {
        "id": "0EDdyNSWpEnP",
        "colab_type": "code",
        "outputId": "87c34a97-1db3-4a5c-fec7-f9171dfb6591",
        "colab": {
          "base_uri": "https://localhost:8080/",
          "height": 34
        }
      },
      "source": [
        "matrix[1][0]"
      ],
      "execution_count": 0,
      "outputs": [
        {
          "output_type": "execute_result",
          "data": {
            "text/plain": [
              "4"
            ]
          },
          "metadata": {
            "tags": []
          },
          "execution_count": 83
        }
      ]
    },
    {
      "cell_type": "code",
      "metadata": {
        "id": "Lpvjl22-pURX",
        "colab_type": "code",
        "outputId": "669389fc-a726-4c34-8d57-dff62e3b6013",
        "colab": {
          "base_uri": "https://localhost:8080/",
          "height": 34
        }
      },
      "source": [
        "matrix[0][0]"
      ],
      "execution_count": 0,
      "outputs": [
        {
          "output_type": "execute_result",
          "data": {
            "text/plain": [
              "1"
            ]
          },
          "metadata": {
            "tags": []
          },
          "execution_count": 84
        }
      ]
    },
    {
      "cell_type": "code",
      "metadata": {
        "id": "p5g4ABJnphaY",
        "colab_type": "code",
        "outputId": "45d4faaa-8511-4cc3-d5d0-61a2358035f4",
        "colab": {
          "base_uri": "https://localhost:8080/",
          "height": 34
        }
      },
      "source": [
        "matrix[1][1]"
      ],
      "execution_count": 0,
      "outputs": [
        {
          "output_type": "execute_result",
          "data": {
            "text/plain": [
              "5"
            ]
          },
          "metadata": {
            "tags": []
          },
          "execution_count": 85
        }
      ]
    },
    {
      "cell_type": "markdown",
      "metadata": {
        "id": "42JkBkR-ppgB",
        "colab_type": "text"
      },
      "source": [
        "#DICTIONARY"
      ]
    },
    {
      "cell_type": "code",
      "metadata": {
        "id": "n9FL34NtplXp",
        "colab_type": "code",
        "colab": {}
      },
      "source": [
        "my_dict={'key1':'values1','key2':'value2'}"
      ],
      "execution_count": 0,
      "outputs": []
    },
    {
      "cell_type": "code",
      "metadata": {
        "id": "lZ_FbLbmrUIo",
        "colab_type": "code",
        "outputId": "923a46b8-2a80-46d4-f48a-2ef519db8f00",
        "colab": {
          "base_uri": "https://localhost:8080/",
          "height": 34
        }
      },
      "source": [
        "my_dict['key1']"
      ],
      "execution_count": 0,
      "outputs": [
        {
          "output_type": "execute_result",
          "data": {
            "text/plain": [
              "'values1'"
            ]
          },
          "metadata": {
            "tags": []
          },
          "execution_count": 88
        }
      ]
    },
    {
      "cell_type": "code",
      "metadata": {
        "id": "2qLKkNXjrYa7",
        "colab_type": "code",
        "colab": {}
      },
      "source": [
        "my_dict={'Keys1':123,'keys2':[12,13,14],'keys3':['one','two','three']}"
      ],
      "execution_count": 0,
      "outputs": []
    },
    {
      "cell_type": "code",
      "metadata": {
        "id": "sZUIVmSKrsXN",
        "colab_type": "code",
        "outputId": "4c124412-009d-4049-e034-0b9321e38e90",
        "colab": {
          "base_uri": "https://localhost:8080/",
          "height": 34
        }
      },
      "source": [
        "my_dict['keys3'][0].upper()"
      ],
      "execution_count": 0,
      "outputs": [
        {
          "output_type": "execute_result",
          "data": {
            "text/plain": [
              "'ONE'"
            ]
          },
          "metadata": {
            "tags": []
          },
          "execution_count": 90
        }
      ]
    },
    {
      "cell_type": "code",
      "metadata": {
        "id": "SfKuMv9Sr3fj",
        "colab_type": "code",
        "colab": {}
      },
      "source": [
        "d={'keys1':{'nestkeys':{'subnestkey':value'}}}"
      ],
      "execution_count": 0,
      "outputs": []
    },
    {
      "cell_type": "code",
      "metadata": {
        "id": "ikFzBB64sGD0",
        "colab_type": "code",
        "outputId": "a1e66ecc-17a8-45e1-96b1-83fd014e806a",
        "colab": {
          "base_uri": "https://localhost:8080/",
          "height": 34
        }
      },
      "source": [
        "d['keys1']"
      ],
      "execution_count": 0,
      "outputs": [
        {
          "output_type": "execute_result",
          "data": {
            "text/plain": [
              "{'nestkeys': {'subnestkey'}}"
            ]
          },
          "metadata": {
            "tags": []
          },
          "execution_count": 93
        }
      ]
    },
    {
      "cell_type": "code",
      "metadata": {
        "id": "BZRLh1RPtDG-",
        "colab_type": "code",
        "outputId": "ad9d44a7-5256-4a4e-e1db-8f325ddaf3f0",
        "colab": {
          "base_uri": "https://localhost:8080/",
          "height": 34
        }
      },
      "source": [
        "my_dict"
      ],
      "execution_count": 0,
      "outputs": [
        {
          "output_type": "execute_result",
          "data": {
            "text/plain": [
              "{'Keys1': 123, 'keys2': [12, 13, 14], 'keys3': ['one', 'two', 'three']}"
            ]
          },
          "metadata": {
            "tags": []
          },
          "execution_count": 95
        }
      ]
    },
    {
      "cell_type": "code",
      "metadata": {
        "id": "PAYpMenYt0vI",
        "colab_type": "code",
        "outputId": "a5f52c13-eb96-413a-8df3-2decb6d1ae8c",
        "colab": {
          "base_uri": "https://localhost:8080/",
          "height": 34
        }
      },
      "source": [
        "my_dict.keys()"
      ],
      "execution_count": 0,
      "outputs": [
        {
          "output_type": "execute_result",
          "data": {
            "text/plain": [
              "dict_keys(['Keys1', 'keys2', 'keys3'])"
            ]
          },
          "metadata": {
            "tags": []
          },
          "execution_count": 96
        }
      ]
    },
    {
      "cell_type": "code",
      "metadata": {
        "id": "LGLAopMYt6d0",
        "colab_type": "code",
        "outputId": "02d130df-5f05-43a6-e563-d93730ef7347",
        "colab": {
          "base_uri": "https://localhost:8080/",
          "height": 34
        }
      },
      "source": [
        "my_dict.values()"
      ],
      "execution_count": 0,
      "outputs": [
        {
          "output_type": "execute_result",
          "data": {
            "text/plain": [
              "dict_values([123, [12, 13, 14], ['one', 'two', 'three']])"
            ]
          },
          "metadata": {
            "tags": []
          },
          "execution_count": 97
        }
      ]
    },
    {
      "cell_type": "code",
      "metadata": {
        "id": "1Rpn8tBFubRC",
        "colab_type": "code",
        "outputId": "4be19a44-67ef-44c1-aea4-845d3fddec0f",
        "colab": {
          "base_uri": "https://localhost:8080/",
          "height": 54
        }
      },
      "source": [
        "my_dict.items()"
      ],
      "execution_count": 0,
      "outputs": [
        {
          "output_type": "execute_result",
          "data": {
            "text/plain": [
              "dict_items([('Keys1', 123), ('keys2', [12, 13, 14]), ('keys3', ['one', 'two', 'three'])])"
            ]
          },
          "metadata": {
            "tags": []
          },
          "execution_count": 99
        }
      ]
    },
    {
      "cell_type": "code",
      "metadata": {
        "id": "HHfvO2WDvEp_",
        "colab_type": "code",
        "colab": {}
      },
      "source": [
        "dict1={'Amar':{'chemistry':83,'biology':98},'ajay':{'chemistry':87,'biology':78}}"
      ],
      "execution_count": 0,
      "outputs": []
    },
    {
      "cell_type": "code",
      "metadata": {
        "id": "8YVcsW0hvj-g",
        "colab_type": "code",
        "outputId": "4c3ed0f9-b6cf-4502-b9b3-38ce59a98880",
        "colab": {
          "base_uri": "https://localhost:8080/",
          "height": 34
        }
      },
      "source": [
        "dict1['Amar']['chemistry']"
      ],
      "execution_count": 3,
      "outputs": [
        {
          "output_type": "execute_result",
          "data": {
            "text/plain": [
              "83"
            ]
          },
          "metadata": {
            "tags": []
          },
          "execution_count": 3
        }
      ]
    },
    {
      "cell_type": "code",
      "metadata": {
        "id": "OAX9pf-8wvjG",
        "colab_type": "code",
        "outputId": "2a962ef2-6c69-422f-a1bf-f922b88b682e",
        "colab": {
          "base_uri": "https://localhost:8080/",
          "height": 34
        }
      },
      "source": [
        "dict1.keys()"
      ],
      "execution_count": 4,
      "outputs": [
        {
          "output_type": "execute_result",
          "data": {
            "text/plain": [
              "dict_keys(['Amar', 'ajay'])"
            ]
          },
          "metadata": {
            "tags": []
          },
          "execution_count": 4
        }
      ]
    },
    {
      "cell_type": "code",
      "metadata": {
        "id": "B_h67eBtjjiU",
        "colab_type": "code",
        "colab": {
          "base_uri": "https://localhost:8080/",
          "height": 34
        },
        "outputId": "4f98acdf-5ec4-4671-a838-e5292c1bb993"
      },
      "source": [
        "len(dict1)"
      ],
      "execution_count": 7,
      "outputs": [
        {
          "output_type": "execute_result",
          "data": {
            "text/plain": [
              "2"
            ]
          },
          "metadata": {
            "tags": []
          },
          "execution_count": 7
        }
      ]
    },
    {
      "cell_type": "code",
      "metadata": {
        "id": "K9TGMlSDjtMu",
        "colab_type": "code",
        "colab": {}
      },
      "source": [
        "my_dict={'keys1':123,'keys2':[12,13,14],'keys3':['one','two','three']}"
      ],
      "execution_count": 0,
      "outputs": []
    },
    {
      "cell_type": "code",
      "metadata": {
        "id": "diwxDAmKkHr-",
        "colab_type": "code",
        "colab": {
          "base_uri": "https://localhost:8080/",
          "height": 34
        },
        "outputId": "de49675a-f2de-4e9f-abba-f19366d166eb"
      },
      "source": [
        "my_dict['keys3'][0]"
      ],
      "execution_count": 9,
      "outputs": [
        {
          "output_type": "execute_result",
          "data": {
            "text/plain": [
              "'one'"
            ]
          },
          "metadata": {
            "tags": []
          },
          "execution_count": 9
        }
      ]
    },
    {
      "cell_type": "code",
      "metadata": {
        "id": "a958JqUmkOv7",
        "colab_type": "code",
        "colab": {
          "base_uri": "https://localhost:8080/",
          "height": 34
        },
        "outputId": "3f753a06-a2c0-45d9-8075-3c748bdb534f"
      },
      "source": [
        "type([12,13,14])"
      ],
      "execution_count": 10,
      "outputs": [
        {
          "output_type": "execute_result",
          "data": {
            "text/plain": [
              "list"
            ]
          },
          "metadata": {
            "tags": []
          },
          "execution_count": 10
        }
      ]
    },
    {
      "cell_type": "code",
      "metadata": {
        "id": "eaLaEAHNkUSi",
        "colab_type": "code",
        "colab": {}
      },
      "source": [
        "d={'keys1':{'nestkeys':{'subnestkey':'value'}}}"
      ],
      "execution_count": 0,
      "outputs": []
    },
    {
      "cell_type": "code",
      "metadata": {
        "id": "bJPBMf1-kk0o",
        "colab_type": "code",
        "colab": {
          "base_uri": "https://localhost:8080/",
          "height": 34
        },
        "outputId": "fe874c05-1b02-43e1-db0d-0328398309d0"
      },
      "source": [
        "d['keys1']"
      ],
      "execution_count": 12,
      "outputs": [
        {
          "output_type": "execute_result",
          "data": {
            "text/plain": [
              "{'nestkeys': {'subnestkey': 'value'}}"
            ]
          },
          "metadata": {
            "tags": []
          },
          "execution_count": 12
        }
      ]
    },
    {
      "cell_type": "code",
      "metadata": {
        "id": "tSW5oRjlkvaX",
        "colab_type": "code",
        "colab": {}
      },
      "source": [
        "dict1={'Amar':{'chemistry':83,'biology':98},'ajay':{'chemistry':87,'biology':78}}"
      ],
      "execution_count": 0,
      "outputs": []
    },
    {
      "cell_type": "code",
      "metadata": {
        "id": "OMYcElZvk8TM",
        "colab_type": "code",
        "colab": {
          "base_uri": "https://localhost:8080/",
          "height": 34
        },
        "outputId": "358fb83a-7967-4c69-de02-d2781aa83fec"
      },
      "source": [
        "dict1['Amar']"
      ],
      "execution_count": 14,
      "outputs": [
        {
          "output_type": "execute_result",
          "data": {
            "text/plain": [
              "{'biology': 98, 'chemistry': 83}"
            ]
          },
          "metadata": {
            "tags": []
          },
          "execution_count": 14
        }
      ]
    },
    {
      "cell_type": "code",
      "metadata": {
        "id": "aPRyR1splFQ0",
        "colab_type": "code",
        "colab": {
          "base_uri": "https://localhost:8080/",
          "height": 34
        },
        "outputId": "8988d496-ce03-4991-a7bb-27c6db95865d"
      },
      "source": [
        "dict1.keys()"
      ],
      "execution_count": 15,
      "outputs": [
        {
          "output_type": "execute_result",
          "data": {
            "text/plain": [
              "dict_keys(['Amar', 'ajay'])"
            ]
          },
          "metadata": {
            "tags": []
          },
          "execution_count": 15
        }
      ]
    },
    {
      "cell_type": "code",
      "metadata": {
        "id": "9DLBiKWdlQgi",
        "colab_type": "code",
        "colab": {
          "base_uri": "https://localhost:8080/",
          "height": 34
        },
        "outputId": "00ecdb15-4469-4305-ad9c-b8d20c9b09c1"
      },
      "source": [
        "dict1['Amar']['chemistry']"
      ],
      "execution_count": 16,
      "outputs": [
        {
          "output_type": "execute_result",
          "data": {
            "text/plain": [
              "83"
            ]
          },
          "metadata": {
            "tags": []
          },
          "execution_count": 16
        }
      ]
    },
    {
      "cell_type": "code",
      "metadata": {
        "id": "NP7goGFPmAG7",
        "colab_type": "code",
        "colab": {
          "base_uri": "https://localhost:8080/",
          "height": 34
        },
        "outputId": "5413aa28-c7a7-4da0-e3f4-ab77fea023a9"
      },
      "source": [
        "dict1['ajay']"
      ],
      "execution_count": 17,
      "outputs": [
        {
          "output_type": "execute_result",
          "data": {
            "text/plain": [
              "{'biology': 78, 'chemistry': 87}"
            ]
          },
          "metadata": {
            "tags": []
          },
          "execution_count": 17
        }
      ]
    },
    {
      "cell_type": "code",
      "metadata": {
        "id": "eoOJZ85omNzK",
        "colab_type": "code",
        "colab": {
          "base_uri": "https://localhost:8080/",
          "height": 34
        },
        "outputId": "84cf72bd-10a8-4dfc-f7ec-321f510c6131"
      },
      "source": [
        "dict1['ajay']['chemistry']"
      ],
      "execution_count": 20,
      "outputs": [
        {
          "output_type": "execute_result",
          "data": {
            "text/plain": [
              "87"
            ]
          },
          "metadata": {
            "tags": []
          },
          "execution_count": 20
        }
      ]
    },
    {
      "cell_type": "code",
      "metadata": {
        "id": "ZuPg1hVvmoNZ",
        "colab_type": "code",
        "colab": {}
      },
      "source": [
        "list1=[34,65,87,34,18,55,67]"
      ],
      "execution_count": 0,
      "outputs": []
    },
    {
      "cell_type": "code",
      "metadata": {
        "id": "M3MSyUyinGFE",
        "colab_type": "code",
        "colab": {}
      },
      "source": [
        "list1.sort()"
      ],
      "execution_count": 0,
      "outputs": []
    },
    {
      "cell_type": "code",
      "metadata": {
        "id": "Jstw0vhlnO98",
        "colab_type": "code",
        "colab": {
          "base_uri": "https://localhost:8080/",
          "height": 34
        },
        "outputId": "c62e547f-2708-46ad-ff75-f1814bae9011"
      },
      "source": [
        "list1"
      ],
      "execution_count": 27,
      "outputs": [
        {
          "output_type": "execute_result",
          "data": {
            "text/plain": [
              "[18, 34, 34, 55, 65, 67, 87]"
            ]
          },
          "metadata": {
            "tags": []
          },
          "execution_count": 27
        }
      ]
    },
    {
      "cell_type": "code",
      "metadata": {
        "id": "6wnFu7P5nRav",
        "colab_type": "code",
        "colab": {
          "base_uri": "https://localhost:8080/",
          "height": 34
        },
        "outputId": "b578195f-584e-4aa6-9581-ec5d593679e3"
      },
      "source": [
        "list1[::-1]"
      ],
      "execution_count": 28,
      "outputs": [
        {
          "output_type": "execute_result",
          "data": {
            "text/plain": [
              "[87, 67, 65, 55, 34, 34, 18]"
            ]
          },
          "metadata": {
            "tags": []
          },
          "execution_count": 28
        }
      ]
    },
    {
      "cell_type": "code",
      "metadata": {
        "id": "70nX9DfFnUQC",
        "colab_type": "code",
        "colab": {}
      },
      "source": [
        "list1.reverse()"
      ],
      "execution_count": 0,
      "outputs": []
    },
    {
      "cell_type": "code",
      "metadata": {
        "id": "S5Xs1FNMnbib",
        "colab_type": "code",
        "colab": {}
      },
      "source": [
        ""
      ],
      "execution_count": 0,
      "outputs": []
    },
    {
      "cell_type": "code",
      "metadata": {
        "id": "XJ7TLedknXRY",
        "colab_type": "code",
        "colab": {
          "base_uri": "https://localhost:8080/",
          "height": 34
        },
        "outputId": "4b9ea286-d61a-459f-ad3f-3ea4e7db905c"
      },
      "source": [
        "list1"
      ],
      "execution_count": 31,
      "outputs": [
        {
          "output_type": "execute_result",
          "data": {
            "text/plain": [
              "[18, 34, 34, 55, 65, 67, 87]"
            ]
          },
          "metadata": {
            "tags": []
          },
          "execution_count": 31
        }
      ]
    },
    {
      "cell_type": "code",
      "metadata": {
        "id": "MrTYw4ymns1l",
        "colab_type": "code",
        "colab": {
          "base_uri": "https://localhost:8080/",
          "height": 34
        },
        "outputId": "a8961ef9-aad2-444c-fa78-da3ec600ed36"
      },
      "source": [
        "min(list1)"
      ],
      "execution_count": 32,
      "outputs": [
        {
          "output_type": "execute_result",
          "data": {
            "text/plain": [
              "18"
            ]
          },
          "metadata": {
            "tags": []
          },
          "execution_count": 32
        }
      ]
    },
    {
      "cell_type": "code",
      "metadata": {
        "id": "FdhC3bHAnvcZ",
        "colab_type": "code",
        "colab": {
          "base_uri": "https://localhost:8080/",
          "height": 34
        },
        "outputId": "92d2ffc9-8d3d-45dd-f8ba-4adee5738a9b"
      },
      "source": [
        "max(list1)"
      ],
      "execution_count": 33,
      "outputs": [
        {
          "output_type": "execute_result",
          "data": {
            "text/plain": [
              "87"
            ]
          },
          "metadata": {
            "tags": []
          },
          "execution_count": 33
        }
      ]
    },
    {
      "cell_type": "code",
      "metadata": {
        "id": "LbqrEFTWnx7R",
        "colab_type": "code",
        "colab": {
          "base_uri": "https://localhost:8080/",
          "height": 34
        },
        "outputId": "e6d4a8ca-beef-4fa1-c687-d50c541bf826"
      },
      "source": [
        "sum(list1)"
      ],
      "execution_count": 34,
      "outputs": [
        {
          "output_type": "execute_result",
          "data": {
            "text/plain": [
              "360"
            ]
          },
          "metadata": {
            "tags": []
          },
          "execution_count": 34
        }
      ]
    },
    {
      "cell_type": "code",
      "metadata": {
        "id": "JM0dxKYEnz7a",
        "colab_type": "code",
        "colab": {
          "base_uri": "https://localhost:8080/",
          "height": 34
        },
        "outputId": "311525ff-d3de-4d87-fb39-845acd3c55bf"
      },
      "source": [
        "sum(list1)/len(list1)"
      ],
      "execution_count": 36,
      "outputs": [
        {
          "output_type": "execute_result",
          "data": {
            "text/plain": [
              "51.42857142857143"
            ]
          },
          "metadata": {
            "tags": []
          },
          "execution_count": 36
        }
      ]
    },
    {
      "cell_type": "code",
      "metadata": {
        "id": "vlmucXwqn_7y",
        "colab_type": "code",
        "colab": {
          "base_uri": "https://localhost:8080/",
          "height": 34
        },
        "outputId": "fb79ad69-6906-4839-b165-8f59a0d582f8"
      },
      "source": [
        "list1"
      ],
      "execution_count": 37,
      "outputs": [
        {
          "output_type": "execute_result",
          "data": {
            "text/plain": [
              "[18, 34, 34, 55, 65, 67, 87]"
            ]
          },
          "metadata": {
            "tags": []
          },
          "execution_count": 37
        }
      ]
    },
    {
      "cell_type": "code",
      "metadata": {
        "id": "QTHK__iGoDn4",
        "colab_type": "code",
        "colab": {
          "base_uri": "https://localhost:8080/",
          "height": 34
        },
        "outputId": "adaf4d3d-9cf2-4296-9f9c-e18eded24c61"
      },
      "source": [
        "len(list1)"
      ],
      "execution_count": 38,
      "outputs": [
        {
          "output_type": "execute_result",
          "data": {
            "text/plain": [
              "7"
            ]
          },
          "metadata": {
            "tags": []
          },
          "execution_count": 38
        }
      ]
    },
    {
      "cell_type": "markdown",
      "metadata": {
        "id": "fyZvf_sSngro",
        "colab_type": "text"
      },
      "source": [
        "**TUPLES**\n"
      ]
    },
    {
      "cell_type": "code",
      "metadata": {
        "id": "V8yCvS0Ine99",
        "colab_type": "code",
        "colab": {
          "base_uri": "https://localhost:8080/",
          "height": 34
        },
        "outputId": "4b6e0a4d-9c4c-42f7-b3ff-087669af6e8c"
      },
      "source": [
        "staticmethod"
      ],
      "execution_count": 39,
      "outputs": [
        {
          "output_type": "execute_result",
          "data": {
            "text/plain": [
              "staticmethod"
            ]
          },
          "metadata": {
            "tags": []
          },
          "execution_count": 39
        }
      ]
    },
    {
      "cell_type": "code",
      "metadata": {
        "id": "xL-zcXTBok96",
        "colab_type": "code",
        "colab": {}
      },
      "source": [
        "t=()"
      ],
      "execution_count": 0,
      "outputs": []
    },
    {
      "cell_type": "code",
      "metadata": {
        "id": "fnYQ7p10ovC1",
        "colab_type": "code",
        "colab": {
          "base_uri": "https://localhost:8080/",
          "height": 34
        },
        "outputId": "31d69457-5b5b-466c-f25d-51ef78caca9a"
      },
      "source": [
        "type(t)"
      ],
      "execution_count": 42,
      "outputs": [
        {
          "output_type": "execute_result",
          "data": {
            "text/plain": [
              "tuple"
            ]
          },
          "metadata": {
            "tags": []
          },
          "execution_count": 42
        }
      ]
    },
    {
      "cell_type": "code",
      "metadata": {
        "id": "PWESCidTo17i",
        "colab_type": "code",
        "colab": {}
      },
      "source": [
        "t=(1,2,3,4,5,6,7,8,9,10,11,12,13,14,15,16,17,18,19,20)"
      ],
      "execution_count": 0,
      "outputs": []
    },
    {
      "cell_type": "code",
      "metadata": {
        "id": "oObGyHIFpABk",
        "colab_type": "code",
        "colab": {
          "base_uri": "https://localhost:8080/",
          "height": 34
        },
        "outputId": "123ee6af-e8c8-4a99-a778-4065671cc791"
      },
      "source": [
        "t"
      ],
      "execution_count": 47,
      "outputs": [
        {
          "output_type": "execute_result",
          "data": {
            "text/plain": [
              "(1, 2, 3, 4, 5, 6, 7, 8, 9, 10, 11, 12, 13, 14, 15, 16, 17, 18, 19, 20)"
            ]
          },
          "metadata": {
            "tags": []
          },
          "execution_count": 47
        }
      ]
    },
    {
      "cell_type": "code",
      "metadata": {
        "id": "a0DEJ4BzpJxS",
        "colab_type": "code",
        "colab": {
          "base_uri": "https://localhost:8080/",
          "height": 34
        },
        "outputId": "ba3be584-63fa-48ef-c8e4-33083948c429"
      },
      "source": [
        "t[10]"
      ],
      "execution_count": 48,
      "outputs": [
        {
          "output_type": "execute_result",
          "data": {
            "text/plain": [
              "11"
            ]
          },
          "metadata": {
            "tags": []
          },
          "execution_count": 48
        }
      ]
    },
    {
      "cell_type": "code",
      "metadata": {
        "id": "cOBv8endpNUo",
        "colab_type": "code",
        "colab": {
          "base_uri": "https://localhost:8080/",
          "height": 34
        },
        "outputId": "7aa6ddff-f656-47ab-d2e0-089bb4d9edc2"
      },
      "source": [
        "t"
      ],
      "execution_count": 50,
      "outputs": [
        {
          "output_type": "execute_result",
          "data": {
            "text/plain": [
              "(1, 2, 3, 4, 5, 6, 7, 8, 9, 10, 11, 12, 13, 14, 15, 16, 17, 18, 19, 20)"
            ]
          },
          "metadata": {
            "tags": []
          },
          "execution_count": 50
        }
      ]
    },
    {
      "cell_type": "code",
      "metadata": {
        "id": "fqKXknShpVBF",
        "colab_type": "code",
        "colab": {
          "base_uri": "https://localhost:8080/",
          "height": 34
        },
        "outputId": "24d2b8fb-dec1-4b7a-9938-4cb6e35703de"
      },
      "source": [
        "t.index(3)"
      ],
      "execution_count": 51,
      "outputs": [
        {
          "output_type": "execute_result",
          "data": {
            "text/plain": [
              "2"
            ]
          },
          "metadata": {
            "tags": []
          },
          "execution_count": 51
        }
      ]
    },
    {
      "cell_type": "code",
      "metadata": {
        "id": "stRyO29XpfDI",
        "colab_type": "code",
        "colab": {
          "base_uri": "https://localhost:8080/",
          "height": 34
        },
        "outputId": "bce24a95-5b6a-4a78-aef3-02672d6b94bb"
      },
      "source": [
        "t.index(10)"
      ],
      "execution_count": 52,
      "outputs": [
        {
          "output_type": "execute_result",
          "data": {
            "text/plain": [
              "9"
            ]
          },
          "metadata": {
            "tags": []
          },
          "execution_count": 52
        }
      ]
    },
    {
      "cell_type": "code",
      "metadata": {
        "id": "Bv3w3WIYr9UW",
        "colab_type": "code",
        "colab": {}
      },
      "source": [
        "a={1,2,3,4,5}"
      ],
      "execution_count": 0,
      "outputs": []
    },
    {
      "cell_type": "code",
      "metadata": {
        "id": "sOHm9yT1tPx9",
        "colab_type": "code",
        "colab": {}
      },
      "source": [
        ""
      ],
      "execution_count": 0,
      "outputs": []
    },
    {
      "cell_type": "code",
      "metadata": {
        "id": "4VRQCB9wsO7y",
        "colab_type": "code",
        "colab": {}
      },
      "source": [
        "b={4,5,6,7}"
      ],
      "execution_count": 0,
      "outputs": []
    },
    {
      "cell_type": "code",
      "metadata": {
        "id": "P0Pg6Z7YtQY8",
        "colab_type": "code",
        "colab": {}
      },
      "source": [
        ""
      ],
      "execution_count": 0,
      "outputs": []
    },
    {
      "cell_type": "code",
      "metadata": {
        "id": "-RoSkPeusSXH",
        "colab_type": "code",
        "colab": {
          "base_uri": "https://localhost:8080/",
          "height": 34
        },
        "outputId": "4213365b-cfa9-4586-f478-f26b222fbf45"
      },
      "source": [
        "a={1,2,3,4,5}\n",
        "b={4,5,6,7}\n",
        "a.intersection(b)"
      ],
      "execution_count": 78,
      "outputs": [
        {
          "output_type": "execute_result",
          "data": {
            "text/plain": [
              "{4, 5}"
            ]
          },
          "metadata": {
            "tags": []
          },
          "execution_count": 78
        }
      ]
    },
    {
      "cell_type": "code",
      "metadata": {
        "id": "q14VrDLJtHJK",
        "colab_type": "code",
        "colab": {}
      },
      "source": [
        "a={1,2,3,4,5}\n",
        "b={4,5,6,7}\n",
        "a.symmetric_difference_update(b)"
      ],
      "execution_count": 0,
      "outputs": []
    },
    {
      "cell_type": "code",
      "metadata": {
        "id": "zIiyg7Kvto1R",
        "colab_type": "code",
        "colab": {
          "base_uri": "https://localhost:8080/",
          "height": 34
        },
        "outputId": "d2aac2c2-8c51-4c80-ac68-cf89ccd7e9a6"
      },
      "source": [
        "a"
      ],
      "execution_count": 82,
      "outputs": [
        {
          "output_type": "execute_result",
          "data": {
            "text/plain": [
              "{4, 5}"
            ]
          },
          "metadata": {
            "tags": []
          },
          "execution_count": 82
        }
      ]
    },
    {
      "cell_type": "code",
      "metadata": {
        "id": "YBftbuPotquw",
        "colab_type": "code",
        "colab": {
          "base_uri": "https://localhost:8080/",
          "height": 34
        },
        "outputId": "ac16e67e-19c1-4f75-ca8a-a160c4f5a01e"
      },
      "source": [
        "b"
      ],
      "execution_count": 83,
      "outputs": [
        {
          "output_type": "execute_result",
          "data": {
            "text/plain": [
              "{4, 5, 6, 7}"
            ]
          },
          "metadata": {
            "tags": []
          },
          "execution_count": 83
        }
      ]
    },
    {
      "cell_type": "code",
      "metadata": {
        "id": "nOdw_APWti8H",
        "colab_type": "code",
        "colab": {}
      },
      "source": [
        "a={1,2,3,4,5}\n",
        "b={4,5,6,7}\n",
        "a.intersection_update(b)"
      ],
      "execution_count": 0,
      "outputs": []
    },
    {
      "cell_type": "markdown",
      "metadata": {
        "id": "C8DzL_Lupga3",
        "colab_type": "text"
      },
      "source": [
        "SET"
      ]
    },
    {
      "cell_type": "code",
      "metadata": {
        "id": "Np2te-Z_pmUX",
        "colab_type": "code",
        "colab": {}
      },
      "source": [
        "X=set()"
      ],
      "execution_count": 0,
      "outputs": []
    },
    {
      "cell_type": "code",
      "metadata": {
        "id": "uu9nuS5Fpu7q",
        "colab_type": "code",
        "colab": {}
      },
      "source": [
        "X.add(2)"
      ],
      "execution_count": 0,
      "outputs": []
    },
    {
      "cell_type": "code",
      "metadata": {
        "id": "CUyFfe8wqWnP",
        "colab_type": "code",
        "colab": {
          "base_uri": "https://localhost:8080/",
          "height": 34
        },
        "outputId": "778d36df-3ff5-40fb-9b20-b3236e3911ea"
      },
      "source": [
        "X"
      ],
      "execution_count": 59,
      "outputs": [
        {
          "output_type": "execute_result",
          "data": {
            "text/plain": [
              "{2}"
            ]
          },
          "metadata": {
            "tags": []
          },
          "execution_count": 59
        }
      ]
    },
    {
      "cell_type": "code",
      "metadata": {
        "id": "w1EOuSuJqaed",
        "colab_type": "code",
        "colab": {}
      },
      "source": [
        "list1=[1,4,6,2,7,8,4]"
      ],
      "execution_count": 0,
      "outputs": []
    },
    {
      "cell_type": "code",
      "metadata": {
        "id": "in-HPYufqnyz",
        "colab_type": "code",
        "colab": {
          "base_uri": "https://localhost:8080/",
          "height": 34
        },
        "outputId": "172ad6f1-0faa-4e36-ca8d-0d1767fd4cb3"
      },
      "source": [
        "list(set(list1))"
      ],
      "execution_count": 61,
      "outputs": [
        {
          "output_type": "execute_result",
          "data": {
            "text/plain": [
              "[1, 2, 4, 6, 7, 8]"
            ]
          },
          "metadata": {
            "tags": []
          },
          "execution_count": 61
        }
      ]
    },
    {
      "cell_type": "code",
      "metadata": {
        "id": "yT8g6Ay7qt9P",
        "colab_type": "code",
        "colab": {
          "base_uri": "https://localhost:8080/",
          "height": 34
        },
        "outputId": "6d63ac34-c3d1-4119-d458-c45fbe045a42"
      },
      "source": [
        "list1.count(6)"
      ],
      "execution_count": 63,
      "outputs": [
        {
          "output_type": "execute_result",
          "data": {
            "text/plain": [
              "1"
            ]
          },
          "metadata": {
            "tags": []
          },
          "execution_count": 63
        }
      ]
    },
    {
      "cell_type": "code",
      "metadata": {
        "id": "_2NPk7E1rE1O",
        "colab_type": "code",
        "colab": {
          "base_uri": "https://localhost:8080/",
          "height": 34
        },
        "outputId": "b0306b1b-fca2-46cf-ac93-a8fa79aa0338"
      },
      "source": [
        "1 < 2"
      ],
      "execution_count": 64,
      "outputs": [
        {
          "output_type": "execute_result",
          "data": {
            "text/plain": [
              "True"
            ]
          },
          "metadata": {
            "tags": []
          },
          "execution_count": 64
        }
      ]
    },
    {
      "cell_type": "code",
      "metadata": {
        "id": "EXYsvxGDrLjj",
        "colab_type": "code",
        "colab": {
          "base_uri": "https://localhost:8080/",
          "height": 34
        },
        "outputId": "ccfd40e5-74c4-4540-9c6f-25c89434f388"
      },
      "source": [
        "2 > 1"
      ],
      "execution_count": 65,
      "outputs": [
        {
          "output_type": "execute_result",
          "data": {
            "text/plain": [
              "True"
            ]
          },
          "metadata": {
            "tags": []
          },
          "execution_count": 65
        }
      ]
    },
    {
      "cell_type": "code",
      "metadata": {
        "id": "pBjO9ffOrN8a",
        "colab_type": "code",
        "colab": {
          "base_uri": "https://localhost:8080/",
          "height": 34
        },
        "outputId": "a47852e1-6ade-41f0-fc71-59fd587d3d7b"
      },
      "source": [
        "1 == 1*1"
      ],
      "execution_count": 66,
      "outputs": [
        {
          "output_type": "execute_result",
          "data": {
            "text/plain": [
              "True"
            ]
          },
          "metadata": {
            "tags": []
          },
          "execution_count": 66
        }
      ]
    },
    {
      "cell_type": "code",
      "metadata": {
        "id": "9I5pWDQfrRwV",
        "colab_type": "code",
        "colab": {
          "base_uri": "https://localhost:8080/",
          "height": 34
        },
        "outputId": "67e29e99-5aa1-4f4a-e5a6-0c8969cba2ba"
      },
      "source": [
        "1==1*1"
      ],
      "execution_count": 71,
      "outputs": [
        {
          "output_type": "execute_result",
          "data": {
            "text/plain": [
              "True"
            ]
          },
          "metadata": {
            "tags": []
          },
          "execution_count": 71
        }
      ]
    },
    {
      "cell_type": "code",
      "metadata": {
        "id": "MZ3uHCGbru6m",
        "colab_type": "code",
        "colab": {}
      },
      "source": [
        ""
      ],
      "execution_count": 0,
      "outputs": []
    },
    {
      "cell_type": "markdown",
      "metadata": {
        "id": "2yUZpNRJrwA4",
        "colab_type": "text"
      },
      "source": [
        "IF"
      ]
    },
    {
      "cell_type": "code",
      "metadata": {
        "id": "cZ0IpvXxrmKP",
        "colab_type": "code",
        "colab": {
          "base_uri": "https://localhost:8080/",
          "height": 34
        },
        "outputId": "32fca618-4275-412b-bbc9-3cf51929cc53"
      },
      "source": [
        "a=4\n",
        "b=6\n",
        "if a>b:\n",
        "  print('a is greater than b')\n",
        "if b>a:\n",
        "  print('b is greater than a')"
      ],
      "execution_count": 85,
      "outputs": [
        {
          "output_type": "stream",
          "text": [
            "b is greater than a\n"
          ],
          "name": "stdout"
        }
      ]
    },
    {
      "cell_type": "code",
      "metadata": {
        "id": "fnh-wFOuraZW",
        "colab_type": "code",
        "colab": {}
      },
      "source": [
        ""
      ],
      "execution_count": 0,
      "outputs": []
    },
    {
      "cell_type": "markdown",
      "metadata": {
        "id": "F-RPtnTtvNSC",
        "colab_type": "text"
      },
      "source": [
        "IF-ELSE"
      ]
    },
    {
      "cell_type": "code",
      "metadata": {
        "id": "ugCEhdtHvUfx",
        "colab_type": "code",
        "colab": {
          "base_uri": "https://localhost:8080/",
          "height": 34
        },
        "outputId": "ae077320-cd90-4c10-a8c2-7b12ad76621a"
      },
      "source": [
        "if a>b:\n",
        "  print('a is greater than b')\n",
        "else:\n",
        "  print('b is greater than a')\n"
      ],
      "execution_count": 86,
      "outputs": [
        {
          "output_type": "stream",
          "text": [
            "b is greater than a\n"
          ],
          "name": "stdout"
        }
      ]
    },
    {
      "cell_type": "code",
      "metadata": {
        "id": "KVtIzJOCv06_",
        "colab_type": "code",
        "colab": {
          "base_uri": "https://localhost:8080/",
          "height": 50
        },
        "outputId": "d5b8cd1a-90b5-44ef-fc74-c9f6ec0d50ff"
      },
      "source": [
        "if a>b:\n",
        "  print('I am before the else statement') #if the if-statement is true the flow is in this line\n",
        "  print('a is greater than b')\n",
        "else:\n",
        "  print('I am after the statements')\n",
        "  print('b is greater than a ')"
      ],
      "execution_count": 87,
      "outputs": [
        {
          "output_type": "stream",
          "text": [
            "I am after the statements\n",
            "b is greater than a \n"
          ],
          "name": "stdout"
        }
      ]
    },
    {
      "cell_type": "code",
      "metadata": {
        "id": "u1vLuCwzxOBS",
        "colab_type": "code",
        "colab": {
          "base_uri": "https://localhost:8080/",
          "height": 34
        },
        "outputId": "4f0f4f2c-4e83-4ebf-a99a-4b2cfa6cac9f"
      },
      "source": [
        "x=False\n",
        "\n",
        "if x:\n",
        " print('x is true')\n",
        "else:\n",
        "  print('x is false') \n"
      ],
      "execution_count": 88,
      "outputs": [
        {
          "output_type": "stream",
          "text": [
            "x is false\n"
          ],
          "name": "stdout"
        }
      ]
    },
    {
      "cell_type": "code",
      "metadata": {
        "id": "hcs4AiZKxp9N",
        "colab_type": "code",
        "colab": {
          "base_uri": "https://localhost:8080/",
          "height": 34
        },
        "outputId": "f7b892d3-a9b6-47fb-9508-eb97a167a6e8"
      },
      "source": [
        "if a>b: #True or False\n",
        "  print('a is greater than b')\n",
        "elif b==a:\n",
        "  print('b is equal to a ')\n",
        "elif b>a:\n",
        "  print('b is greater than a')"
      ],
      "execution_count": 90,
      "outputs": [
        {
          "output_type": "stream",
          "text": [
            "b is greater than a\n"
          ],
          "name": "stdout"
        }
      ]
    },
    {
      "cell_type": "code",
      "metadata": {
        "id": "3yV0c-54zE69",
        "colab_type": "code",
        "colab": {
          "base_uri": "https://localhost:8080/",
          "height": 34
        },
        "outputId": "a6d9bf64-8845-4c29-dfc7-0a76aa1027e0"
      },
      "source": [
        "if a>b: #True or False\n",
        "  print('a is greater than b')\n",
        "elif a>b:\n",
        "  print('b is equal to a ')\n",
        "elif b>a:\n",
        "  print('b is greater than a')"
      ],
      "execution_count": 92,
      "outputs": [
        {
          "output_type": "stream",
          "text": [
            "b is greater than a\n"
          ],
          "name": "stdout"
        }
      ]
    },
    {
      "cell_type": "code",
      "metadata": {
        "id": "DoVBS6Zx1ADB",
        "colab_type": "code",
        "colab": {}
      },
      "source": [
        "list1=[1,2,3,4,5,6]"
      ],
      "execution_count": 0,
      "outputs": []
    },
    {
      "cell_type": "code",
      "metadata": {
        "id": "zCV-298T1T7v",
        "colab_type": "code",
        "colab": {
          "base_uri": "https://localhost:8080/",
          "height": 118
        },
        "outputId": "6096324b-fb8a-4dc8-bc74-5301c037a856"
      },
      "source": [
        "for lst in list1:\n",
        "  print(lst)"
      ],
      "execution_count": 96,
      "outputs": [
        {
          "output_type": "stream",
          "text": [
            "1\n",
            "2\n",
            "3\n",
            "4\n",
            "5\n",
            "6\n"
          ],
          "name": "stdout"
        }
      ]
    },
    {
      "cell_type": "code",
      "metadata": {
        "id": "QFSqs2kE1lKY",
        "colab_type": "code",
        "colab": {
          "base_uri": "https://localhost:8080/",
          "height": 34
        },
        "outputId": "89cb6a6d-61c3-4bcf-a010-38b0631056ec"
      },
      "source": [
        "person='Geroge'\n",
        "\n",
        "if person == 'Sammy':\n",
        "  print('Welcome Sammy')\n",
        "elif person== 'Geroge':\n",
        "  print('Welcome Geroge')\n",
        "else:\n",
        "  print('Welcome, whats your name ?')"
      ],
      "execution_count": 97,
      "outputs": [
        {
          "output_type": "stream",
          "text": [
            "Welcome Geroge\n"
          ],
          "name": "stdout"
        }
      ]
    },
    {
      "cell_type": "code",
      "metadata": {
        "id": "KVwtfInK2F6f",
        "colab_type": "code",
        "colab": {
          "base_uri": "https://localhost:8080/",
          "height": 50
        },
        "outputId": "b07ca2ce-5aad-44a9-8198-14fa7ac02e81"
      },
      "source": [
        "s=int(input())\n",
        "s=str(s)\n",
        "rev=s[::-1]\n",
        "if (s==rev):\n",
        "  print('this is pallindrome')\n",
        "else:\n",
        "  print('not pallindrome')"
      ],
      "execution_count": 132,
      "outputs": [
        {
          "output_type": "stream",
          "text": [
            "121\n",
            "this is pallindrome\n"
          ],
          "name": "stdout"
        }
      ]
    },
    {
      "cell_type": "code",
      "metadata": {
        "id": "dOjvBzQC3E18",
        "colab_type": "code",
        "colab": {}
      },
      "source": [
        ""
      ],
      "execution_count": 0,
      "outputs": []
    },
    {
      "cell_type": "markdown",
      "metadata": {
        "id": "QbsiSCKL3JAq",
        "colab_type": "text"
      },
      "source": [
        "for-**loops**"
      ]
    },
    {
      "cell_type": "code",
      "metadata": {
        "id": "rmOzZejZ3M4P",
        "colab_type": "code",
        "colab": {}
      },
      "source": [
        "list1=[1,2,3,4,5,6,7,8,9,10]"
      ],
      "execution_count": 0,
      "outputs": []
    },
    {
      "cell_type": "code",
      "metadata": {
        "id": "Q-Iuej053a9m",
        "colab_type": "code",
        "colab": {
          "base_uri": "https://localhost:8080/",
          "height": 185
        },
        "outputId": "2ea5cab7-b499-487a-8250-1ca95a6b3c8d"
      },
      "source": [
        "for i in range(0,len(list1)):\n",
        "  print(i,list1)"
      ],
      "execution_count": 105,
      "outputs": [
        {
          "output_type": "stream",
          "text": [
            "0 [1, 2, 3, 4, 5, 6, 7, 8, 9, 10]\n",
            "1 [1, 2, 3, 4, 5, 6, 7, 8, 9, 10]\n",
            "2 [1, 2, 3, 4, 5, 6, 7, 8, 9, 10]\n",
            "3 [1, 2, 3, 4, 5, 6, 7, 8, 9, 10]\n",
            "4 [1, 2, 3, 4, 5, 6, 7, 8, 9, 10]\n",
            "5 [1, 2, 3, 4, 5, 6, 7, 8, 9, 10]\n",
            "6 [1, 2, 3, 4, 5, 6, 7, 8, 9, 10]\n",
            "7 [1, 2, 3, 4, 5, 6, 7, 8, 9, 10]\n",
            "8 [1, 2, 3, 4, 5, 6, 7, 8, 9, 10]\n",
            "9 [1, 2, 3, 4, 5, 6, 7, 8, 9, 10]\n"
          ],
          "name": "stdout"
        }
      ]
    },
    {
      "cell_type": "code",
      "metadata": {
        "id": "67fObPae39XH",
        "colab_type": "code",
        "colab": {
          "base_uri": "https://localhost:8080/",
          "height": 34
        },
        "outputId": "335d16d2-4abe-4c6f-e2b3-103563c6fcaa"
      },
      "source": [
        "list1"
      ],
      "execution_count": 106,
      "outputs": [
        {
          "output_type": "execute_result",
          "data": {
            "text/plain": [
              "[1, 2, 3, 4, 5, 6, 7, 8, 9, 10]"
            ]
          },
          "metadata": {
            "tags": []
          },
          "execution_count": 106
        }
      ]
    },
    {
      "cell_type": "code",
      "metadata": {
        "id": "jl45siyc4ASt",
        "colab_type": "code",
        "colab": {
          "base_uri": "https://localhost:8080/",
          "height": 202
        },
        "outputId": "9f8b890d-8bfe-480e-fd22-df550bb52188"
      },
      "source": [
        "for i in range(0,len(list1)+1):\n",
        "  print(i)"
      ],
      "execution_count": 112,
      "outputs": [
        {
          "output_type": "stream",
          "text": [
            "0\n",
            "1\n",
            "2\n",
            "3\n",
            "4\n",
            "5\n",
            "6\n",
            "7\n",
            "8\n",
            "9\n",
            "10\n"
          ],
          "name": "stdout"
        }
      ]
    },
    {
      "cell_type": "code",
      "metadata": {
        "id": "TpZ_P-vZ4YUk",
        "colab_type": "code",
        "colab": {
          "base_uri": "https://localhost:8080/",
          "height": 34
        },
        "outputId": "12b3fd35-51fe-476f-fe51-07533e92449a"
      },
      "source": [
        "len(list1)"
      ],
      "execution_count": 108,
      "outputs": [
        {
          "output_type": "execute_result",
          "data": {
            "text/plain": [
              "10"
            ]
          },
          "metadata": {
            "tags": []
          },
          "execution_count": 108
        }
      ]
    },
    {
      "cell_type": "code",
      "metadata": {
        "id": "Tr60GHNI5DzC",
        "colab_type": "code",
        "colab": {
          "base_uri": "https://localhost:8080/",
          "height": 185
        },
        "outputId": "b41fa015-e6ca-4d75-a80c-4b981366e5f6"
      },
      "source": [
        "for i in range(0,len(list1)):\n",
        "  print(i)"
      ],
      "execution_count": 113,
      "outputs": [
        {
          "output_type": "stream",
          "text": [
            "0\n",
            "1\n",
            "2\n",
            "3\n",
            "4\n",
            "5\n",
            "6\n",
            "7\n",
            "8\n",
            "9\n"
          ],
          "name": "stdout"
        }
      ]
    },
    {
      "cell_type": "code",
      "metadata": {
        "id": "VUja9yoD5T4n",
        "colab_type": "code",
        "colab": {
          "base_uri": "https://localhost:8080/",
          "height": 689
        },
        "outputId": "39260960-3aa3-4177-feb8-fc90e0e56bc7"
      },
      "source": [
        "for i in range(0,len(list1)):\n",
        "  print(i+1, 'iteration')\n",
        "  print('index no',i)\n",
        "  print('element :', list1[i])\n",
        "  print(\"*\"*20)"
      ],
      "execution_count": 120,
      "outputs": [
        {
          "output_type": "stream",
          "text": [
            "1 iteration\n",
            "index no 0\n",
            "element : 1\n",
            "********************\n",
            "2 iteration\n",
            "index no 1\n",
            "element : 2\n",
            "********************\n",
            "3 iteration\n",
            "index no 2\n",
            "element : 3\n",
            "********************\n",
            "4 iteration\n",
            "index no 3\n",
            "element : 4\n",
            "********************\n",
            "5 iteration\n",
            "index no 4\n",
            "element : 5\n",
            "********************\n",
            "6 iteration\n",
            "index no 5\n",
            "element : 6\n",
            "********************\n",
            "7 iteration\n",
            "index no 6\n",
            "element : 7\n",
            "********************\n",
            "8 iteration\n",
            "index no 7\n",
            "element : 8\n",
            "********************\n",
            "9 iteration\n",
            "index no 8\n",
            "element : 9\n",
            "********************\n",
            "10 iteration\n",
            "index no 9\n",
            "element : 10\n",
            "********************\n"
          ],
          "name": "stdout"
        }
      ]
    },
    {
      "cell_type": "code",
      "metadata": {
        "id": "Lu5Mtgax7wD_",
        "colab_type": "code",
        "colab": {
          "base_uri": "https://localhost:8080/",
          "height": 34
        },
        "outputId": "d28c8008-41bd-41c5-8848-965e9ee5b6ea"
      },
      "source": [
        "list1"
      ],
      "execution_count": 122,
      "outputs": [
        {
          "output_type": "execute_result",
          "data": {
            "text/plain": [
              "[1, 2, 3, 4, 5, 6, 7, 8, 9, 10]"
            ]
          },
          "metadata": {
            "tags": []
          },
          "execution_count": 122
        }
      ]
    },
    {
      "cell_type": "code",
      "metadata": {
        "id": "APQfqbOT7zn4",
        "colab_type": "code",
        "colab": {
          "base_uri": "https://localhost:8080/",
          "height": 185
        },
        "outputId": "ee527345-f294-4563-8281-f4d033d33712"
      },
      "source": [
        "for i in list1:\n",
        "  if(i%2==0):\n",
        "    print('Even: {}'.format(i))\n",
        "  else:\n",
        "    print('Odd: {}'.format(i))"
      ],
      "execution_count": 133,
      "outputs": [
        {
          "output_type": "stream",
          "text": [
            "Odd: 1\n",
            "Even: 2\n",
            "Odd: 3\n",
            "Even: 4\n",
            "Odd: 5\n",
            "Even: 6\n",
            "Odd: 7\n",
            "Even: 8\n",
            "Odd: 9\n",
            "Even: 10\n"
          ],
          "name": "stdout"
        }
      ]
    },
    {
      "cell_type": "code",
      "metadata": {
        "id": "XP9H4N14-r_t",
        "colab_type": "code",
        "colab": {
          "base_uri": "https://localhost:8080/",
          "height": 185
        },
        "outputId": "056e000d-2868-4f23-db93-92cc38a569d7"
      },
      "source": [
        "for i in range(0,len(list1)):\n",
        "  if(list1[i]%2==0):\n",
        "    print('Even no', i,list1[i])\n",
        "  else:\n",
        "    print('Odd no', i,list1[i])"
      ],
      "execution_count": 134,
      "outputs": [
        {
          "output_type": "stream",
          "text": [
            "Odd no 0 1\n",
            "Even no 1 2\n",
            "Odd no 2 3\n",
            "Even no 3 4\n",
            "Odd no 4 5\n",
            "Even no 5 6\n",
            "Odd no 6 7\n",
            "Even no 7 8\n",
            "Odd no 8 9\n",
            "Even no 9 10\n"
          ],
          "name": "stdout"
        }
      ]
    },
    {
      "cell_type": "code",
      "metadata": {
        "id": "pcZAZ0ST8oDv",
        "colab_type": "code",
        "colab": {
          "base_uri": "https://localhost:8080/",
          "height": 34
        },
        "outputId": "c960be95-d3f1-4f5b-da9c-327368c6a333"
      },
      "source": [
        "max(list1)"
      ],
      "execution_count": 128,
      "outputs": [
        {
          "output_type": "execute_result",
          "data": {
            "text/plain": [
              "10"
            ]
          },
          "metadata": {
            "tags": []
          },
          "execution_count": 128
        }
      ]
    },
    {
      "cell_type": "code",
      "metadata": {
        "id": "aEgWjkhO8t5o",
        "colab_type": "code",
        "colab": {
          "base_uri": "https://localhost:8080/",
          "height": 34
        },
        "outputId": "2b60e200-b468-46e6-abe0-0106995f4c5b"
      },
      "source": [
        "list1[0]"
      ],
      "execution_count": 129,
      "outputs": [
        {
          "output_type": "execute_result",
          "data": {
            "text/plain": [
              "1"
            ]
          },
          "metadata": {
            "tags": []
          },
          "execution_count": 129
        }
      ]
    },
    {
      "cell_type": "code",
      "metadata": {
        "id": "imR5uUTR8wuh",
        "colab_type": "code",
        "colab": {
          "base_uri": "https://localhost:8080/",
          "height": 34
        },
        "outputId": "38a4bed6-f80d-4935-be03-f6b28a8dccee"
      },
      "source": [
        "23%2"
      ],
      "execution_count": 131,
      "outputs": [
        {
          "output_type": "execute_result",
          "data": {
            "text/plain": [
              "1"
            ]
          },
          "metadata": {
            "tags": []
          },
          "execution_count": 131
        }
      ]
    },
    {
      "cell_type": "code",
      "metadata": {
        "id": "4GCPMx4e_P9w",
        "colab_type": "code",
        "colab": {
          "base_uri": "https://localhost:8080/",
          "height": 307
        },
        "outputId": "5f0dc7e4-b6ac-432c-d6d9-7dc02f1f680b"
      },
      "source": [
        "import pdb\n",
        "for i in range(0,len(list1)):\n",
        "  if(list1[i]%2==0):\n",
        "    print('Even no', i,list1[i])\n",
        "  else:\n",
        "    print('Odd no', i,list1[i]):\n",
        "\n",
        "pdb.set_trace()\n"
      ],
      "execution_count": 0,
      "outputs": [
        {
          "output_type": "stream",
          "text": [
            "Odd no 0 1\n",
            "Even no 1 2\n",
            "Odd no 2 3\n",
            "Even no 3 4\n",
            "Odd no 4 5\n",
            "Even no 5 6\n",
            "Odd no 6 7\n",
            "Even no 7 8\n",
            "Odd no 8 9\n",
            "Even no 9 10\n",
            "--Call--\n",
            "> /usr/local/lib/python3.6/dist-packages/IPython/core/displayhook.py(236)__call__()\n",
            "-> def __call__(self, result=None):\n",
            "--KeyboardInterrupt--\n",
            "--KeyboardInterrupt--\n"
          ],
          "name": "stdout"
        }
      ]
    }
  ]
}